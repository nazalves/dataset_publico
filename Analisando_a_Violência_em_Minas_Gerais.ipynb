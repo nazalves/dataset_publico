{
  "nbformat": 4,
  "nbformat_minor": 0,
  "metadata": {
    "colab": {
      "name": "Analisando a Violência em Minas Gerais.ipynb",
      "provenance": [],
      "collapsed_sections": [],
      "include_colab_link": true
    },
    "kernelspec": {
      "name": "python3",
      "display_name": "Python 3"
    }
  },
  "cells": [
    {
      "cell_type": "markdown",
      "metadata": {
        "id": "view-in-github",
        "colab_type": "text"
      },
      "source": [
        "<a href=\"https://colab.research.google.com/github/nazalves/dataset_publico/blob/master/Analisando_a_Viol%C3%AAncia_em_Minas_Gerais.ipynb\" target=\"_parent\"><img src=\"https://colab.research.google.com/assets/colab-badge.svg\" alt=\"Open In Colab\"/></a>"
      ]
    },
    {
      "cell_type": "markdown",
      "metadata": {
        "id": "kLI0gJtzDGuQ",
        "colab_type": "text"
      },
      "source": [
        "# Analisando a Violência em Minas Gerais\n",
        "\n",
        "A violência é um assunto recorrente em nossa sociedade e faz parte da plataforma política de todos os governos.\n",
        "Neste estudo preliminar,  vamos analisar o comportamento da violência nos municípios do Estado de Minas Gerais, que tem uma das melhores policias no Brasil, e visualizar através dos dados, qual o retrato que nos é revelado da violência no estado de Minas Gerais.\n",
        "\n",
        "<center><img alt=\"\" width=\"20%\" src=\"https://github.com/nazalves/proj_data_science/blob/master/Capa_CrimeMG.png?raw=true\"></center>\n"
      ]
    },
    {
      "cell_type": "markdown",
      "metadata": {
        "id": "0zxQHhIUDF_2",
        "colab_type": "text"
      },
      "source": [
        "## Obtenção dos Dados\n",
        "\n",
        "A fonte de dados utilizada neste estudo foi obtida no site da SEJUSP - Secretaria de Estado de Justiça e Segurança Pública de Minas Gerais (*http://www.seguranca.mg.gov.br/2018-08-22-13-39-06/dados-abertos*), que tem uma área de dados abertos para os cidadãos e do site do IBGE (*https://www.ibge.gov.br/estatisticas/sociais/populacao/9103-estimativas-de-populacao.html?=&t=resultados*), onde  retirei as informações de estimativa da população dos municípios de Minas Gerais.\n",
        "\n",
        "A visão da SEJUSP:\n",
        "\n",
        "> *Ser reconhecida em âmbito nacional e particularmente pela sociedade mineira como instituição de excelência nas ações de integração dos órgãos de Segurança Pública na custódia e ressocialização do indivíduo privado de liberdade, no rompimento da trajetória infracional do jovem em conflito com a lei e com a prevenção à criminalidade, reduzindo a criminalidade e aumentando a sensação de segurança da população.*\n",
        "\n",
        "\n",
        "\n",
        "\n"
      ]
    },
    {
      "cell_type": "markdown",
      "metadata": {
        "id": "hMmiWQTv9iYX",
        "colab_type": "text"
      },
      "source": [
        "\n",
        "### Dados Abertos\n",
        "Dados abertos governamentais são os dados públicos, produzidos ou sob a tutela do governo, que\n",
        "devem ser disponibilizados ao cidadão para qualquer fim.\n",
        "\n",
        "Para análise exploratória, fiz uma junção em dois arquivos *csv* dos dados disponibilizados pela **SEJUSP** a saber:\n",
        "* *Crimes Violentos*\n",
        "* *Crimes Violentos - Vítimas de Homicídio Consumado*\n",
        "* *Outras Naturezas*\n",
        "\n",
        "Estes três dataset foram juntados no arquivo  [Banco_Crimes_Vitma_MG.csv](https://www.dropbox.com/s/e4nisrbpgrc3l73/Banco_Crimes_Vitma_MG.csv?dl=1) dispnível no dropbox.\n",
        "\n",
        "* *Estratificação de Roubos por Alvo*\n",
        "* *Estratificação de Furtos por Alvo*\n",
        "* *Veículos roubados*\n",
        "* *Veículos furtados* \n",
        "\n",
        "Estes quatro dataset foram juntados no arquivo  [Banco_Crimes_Alvo_MG.csv](https://www.dropbox.com/s/e4nisrbpgrc3l73/Banco_Crimes_Alvo_MG.csv?dl=1)) dispnível no dropbox.\n",
        "\n",
        "Carreguei também um outro *Dataset* [Populacao_Municipios_MG.xlsx](https://github.com/nazalves/dataset_publico/blob/master/Populacao_Municipios_MG.xlsx), que é um arquivo que preparei a partir dos dados obitdo no site do IBGE com a população de cada município de Minas Gerais, para que o *Cod IBGE* do município tivesse o mesmo formato do atributo dos dados da SEJUSP.\n"
      ]
    },
    {
      "cell_type": "markdown",
      "metadata": {
        "id": "7vh4at0l90nr",
        "colab_type": "text"
      },
      "source": [
        "### Importando os dados\n",
        "\n"
      ]
    },
    {
      "cell_type": "code",
      "metadata": {
        "id": "CYLNme_OCX_R",
        "colab_type": "code",
        "colab": {
          "base_uri": "https://localhost:8080/",
          "height": 70
        },
        "outputId": "d8d06ebc-d867-47f2-d110-ca6df3a311c4"
      },
      "source": [
        "#importando pacotes necessários\n",
        "import pandas as pd\n",
        "import matplotlib.pyplot as plt\n",
        "import seaborn as snd\n",
        "import numpy as np\n",
        "import re\n"
      ],
      "execution_count": 1,
      "outputs": [
        {
          "output_type": "stream",
          "text": [
            "/usr/local/lib/python3.6/dist-packages/statsmodels/tools/_testing.py:19: FutureWarning: pandas.util.testing is deprecated. Use the functions in the public API at pandas.testing instead.\n",
            "  import pandas.util.testing as tm\n"
          ],
          "name": "stderr"
        }
      ]
    },
    {
      "cell_type": "code",
      "metadata": {
        "id": "Tjh3S2QgdXhA",
        "colab_type": "code",
        "colab": {}
      },
      "source": [
        "#importando o arquivo Banco_Crimes_Vitma_MG.csv para o DataFrame df\n",
        "df = pd.read_csv(\"https://www.dropbox.com/s/ygrp7qyzqbzpxkz/Banco_Crimes_Vitma_MG.csv?dl=1\",sep=\";\", encoding=\"ISO-8859-1\")\n"
      ],
      "execution_count": 2,
      "outputs": []
    },
    {
      "cell_type": "code",
      "metadata": {
        "id": "5GHnj4e9j0gG",
        "colab_type": "code",
        "colab": {}
      },
      "source": [
        "#importando o arquivo Banco_Crimes_Alvo_MG.csv para o DataFrame df2\n",
        "df2 = pd.read_csv(\"https://www.dropbox.com/s/ltrmq8yyd0xo36d/Banco_Crimes_Alvo_MG.csv?dl=1\",sep=\";\",encoding=\"ISO-8859-1\")"
      ],
      "execution_count": 3,
      "outputs": []
    },
    {
      "cell_type": "code",
      "metadata": {
        "id": "XMAu6Q_jAT0U",
        "colab_type": "code",
        "colab": {}
      },
      "source": [
        "# importando arquivo Populacao_Municipios_MG.xlsx para o DataFrame df_pop_mg\n",
        "df_pop_mg = pd.read_excel(\"https://github.com/nazalves/dataset_publico/blob/master/Populacao_Municipios_MG.xlsx?raw=true\")"
      ],
      "execution_count": 4,
      "outputs": []
    },
    {
      "cell_type": "markdown",
      "metadata": {
        "id": "b-zQQ8s59y7F",
        "colab_type": "text"
      },
      "source": [
        "## Análise Inicial dos Dados\n",
        "\n",
        "Esta etapa tem por objetivo entender como os dados estão estruturados e estabelecer uma situação incial mais consistente."
      ]
    },
    {
      "cell_type": "code",
      "metadata": {
        "id": "wiA-Sl0Sdx1N",
        "colab_type": "code",
        "colab": {
          "base_uri": "https://localhost:8080/",
          "height": 195
        },
        "outputId": "3532c90c-6337-4a46-cd72-5ab607dd1f87"
      },
      "source": [
        "#verificando as 5 primeiras linhas do DataFrame df\n",
        "df.head()"
      ],
      "execution_count": 5,
      "outputs": [
        {
          "output_type": "execute_result",
          "data": {
            "text/html": [
              "<div>\n",
              "<style scoped>\n",
              "    .dataframe tbody tr th:only-of-type {\n",
              "        vertical-align: middle;\n",
              "    }\n",
              "\n",
              "    .dataframe tbody tr th {\n",
              "        vertical-align: top;\n",
              "    }\n",
              "\n",
              "    .dataframe thead th {\n",
              "        text-align: right;\n",
              "    }\n",
              "</style>\n",
              "<table border=\"1\" class=\"dataframe\">\n",
              "  <thead>\n",
              "    <tr style=\"text-align: right;\">\n",
              "      <th></th>\n",
              "      <th>Registros</th>\n",
              "      <th>Natureza</th>\n",
              "      <th>Município</th>\n",
              "      <th>Cod IBGE</th>\n",
              "      <th>Mês</th>\n",
              "      <th>Ano</th>\n",
              "      <th>RISP</th>\n",
              "      <th>RISP Nova</th>\n",
              "      <th>RMBH</th>\n",
              "    </tr>\n",
              "  </thead>\n",
              "  <tbody>\n",
              "    <tr>\n",
              "      <th>0</th>\n",
              "      <td>0</td>\n",
              "      <td>Estupro Consumado</td>\n",
              "      <td>ABADIA DOS DOURADOS</td>\n",
              "      <td>310010</td>\n",
              "      <td>1</td>\n",
              "      <td>2018</td>\n",
              "      <td>10</td>\n",
              "      <td>10</td>\n",
              "      <td>NÃO</td>\n",
              "    </tr>\n",
              "    <tr>\n",
              "      <th>1</th>\n",
              "      <td>0</td>\n",
              "      <td>Estupro Consumado</td>\n",
              "      <td>ABAETE</td>\n",
              "      <td>310020</td>\n",
              "      <td>1</td>\n",
              "      <td>2018</td>\n",
              "      <td>7</td>\n",
              "      <td>7</td>\n",
              "      <td>NÃO</td>\n",
              "    </tr>\n",
              "    <tr>\n",
              "      <th>2</th>\n",
              "      <td>0</td>\n",
              "      <td>Estupro Consumado</td>\n",
              "      <td>ABRE-CAMPO</td>\n",
              "      <td>310030</td>\n",
              "      <td>1</td>\n",
              "      <td>2018</td>\n",
              "      <td>12</td>\n",
              "      <td>12</td>\n",
              "      <td>NÃO</td>\n",
              "    </tr>\n",
              "    <tr>\n",
              "      <th>3</th>\n",
              "      <td>0</td>\n",
              "      <td>Estupro Consumado</td>\n",
              "      <td>ACAIACA</td>\n",
              "      <td>310040</td>\n",
              "      <td>1</td>\n",
              "      <td>2018</td>\n",
              "      <td>12</td>\n",
              "      <td>12</td>\n",
              "      <td>NÃO</td>\n",
              "    </tr>\n",
              "    <tr>\n",
              "      <th>4</th>\n",
              "      <td>0</td>\n",
              "      <td>Estupro Consumado</td>\n",
              "      <td>ACUCENA</td>\n",
              "      <td>310050</td>\n",
              "      <td>1</td>\n",
              "      <td>2018</td>\n",
              "      <td>12</td>\n",
              "      <td>12</td>\n",
              "      <td>NÃO</td>\n",
              "    </tr>\n",
              "  </tbody>\n",
              "</table>\n",
              "</div>"
            ],
            "text/plain": [
              "   Registros           Natureza            Município  ...  RISP  RISP Nova  RMBH\n",
              "0          0  Estupro Consumado  ABADIA DOS DOURADOS  ...    10         10   NÃO\n",
              "1          0  Estupro Consumado               ABAETE  ...     7          7   NÃO\n",
              "2          0  Estupro Consumado           ABRE-CAMPO  ...    12         12   NÃO\n",
              "3          0  Estupro Consumado              ACAIACA  ...    12         12   NÃO\n",
              "4          0  Estupro Consumado              ACUCENA  ...    12         12   NÃO\n",
              "\n",
              "[5 rows x 9 columns]"
            ]
          },
          "metadata": {
            "tags": []
          },
          "execution_count": 5
        }
      ]
    },
    {
      "cell_type": "code",
      "metadata": {
        "id": "jIPcbA-7GfWj",
        "colab_type": "code",
        "colab": {
          "base_uri": "https://localhost:8080/",
          "height": 195
        },
        "outputId": "1722b952-33d5-4b7d-e25d-04bc53ae065c"
      },
      "source": [
        "#verificando as 5 primeiras linhas do DataFrame df2\n",
        "df2.head()"
      ],
      "execution_count": 6,
      "outputs": [
        {
          "output_type": "execute_result",
          "data": {
            "text/html": [
              "<div>\n",
              "<style scoped>\n",
              "    .dataframe tbody tr th:only-of-type {\n",
              "        vertical-align: middle;\n",
              "    }\n",
              "\n",
              "    .dataframe tbody tr th {\n",
              "        vertical-align: top;\n",
              "    }\n",
              "\n",
              "    .dataframe thead th {\n",
              "        text-align: right;\n",
              "    }\n",
              "</style>\n",
              "<table border=\"1\" class=\"dataframe\">\n",
              "  <thead>\n",
              "    <tr style=\"text-align: right;\">\n",
              "      <th></th>\n",
              "      <th>Registros</th>\n",
              "      <th>Natureza</th>\n",
              "      <th>Alvos</th>\n",
              "      <th>Município</th>\n",
              "      <th>Cod IBGE</th>\n",
              "      <th>Mês</th>\n",
              "      <th>Ano</th>\n",
              "      <th>RISP</th>\n",
              "      <th>RISP Nova</th>\n",
              "      <th>RMBH</th>\n",
              "    </tr>\n",
              "  </thead>\n",
              "  <tbody>\n",
              "    <tr>\n",
              "      <th>0</th>\n",
              "      <td>0</td>\n",
              "      <td>Roubo</td>\n",
              "      <td>Veículos</td>\n",
              "      <td>ABADIA DOS DOURADOS</td>\n",
              "      <td>310010</td>\n",
              "      <td>1</td>\n",
              "      <td>2015</td>\n",
              "      <td>10</td>\n",
              "      <td>10</td>\n",
              "      <td>NÃO</td>\n",
              "    </tr>\n",
              "    <tr>\n",
              "      <th>1</th>\n",
              "      <td>1</td>\n",
              "      <td>Roubo</td>\n",
              "      <td>Veículos</td>\n",
              "      <td>ABAETE</td>\n",
              "      <td>310020</td>\n",
              "      <td>1</td>\n",
              "      <td>2015</td>\n",
              "      <td>7</td>\n",
              "      <td>7</td>\n",
              "      <td>NÃO</td>\n",
              "    </tr>\n",
              "    <tr>\n",
              "      <th>2</th>\n",
              "      <td>0</td>\n",
              "      <td>Roubo</td>\n",
              "      <td>Veículos</td>\n",
              "      <td>ABRE-CAMPO</td>\n",
              "      <td>310030</td>\n",
              "      <td>1</td>\n",
              "      <td>2015</td>\n",
              "      <td>12</td>\n",
              "      <td>12</td>\n",
              "      <td>NÃO</td>\n",
              "    </tr>\n",
              "    <tr>\n",
              "      <th>3</th>\n",
              "      <td>0</td>\n",
              "      <td>Roubo</td>\n",
              "      <td>Veículos</td>\n",
              "      <td>ACAIACA</td>\n",
              "      <td>310040</td>\n",
              "      <td>1</td>\n",
              "      <td>2015</td>\n",
              "      <td>12</td>\n",
              "      <td>12</td>\n",
              "      <td>NÃO</td>\n",
              "    </tr>\n",
              "    <tr>\n",
              "      <th>4</th>\n",
              "      <td>0</td>\n",
              "      <td>Roubo</td>\n",
              "      <td>Veículos</td>\n",
              "      <td>ACUCENA</td>\n",
              "      <td>310050</td>\n",
              "      <td>1</td>\n",
              "      <td>2015</td>\n",
              "      <td>12</td>\n",
              "      <td>12</td>\n",
              "      <td>NÃO</td>\n",
              "    </tr>\n",
              "  </tbody>\n",
              "</table>\n",
              "</div>"
            ],
            "text/plain": [
              "   Registros Natureza     Alvos  ... RISP  RISP Nova  RMBH\n",
              "0          0    Roubo  Veículos  ...   10         10   NÃO\n",
              "1          1    Roubo  Veículos  ...    7          7   NÃO\n",
              "2          0    Roubo  Veículos  ...   12         12   NÃO\n",
              "3          0    Roubo  Veículos  ...   12         12   NÃO\n",
              "4          0    Roubo  Veículos  ...   12         12   NÃO\n",
              "\n",
              "[5 rows x 10 columns]"
            ]
          },
          "metadata": {
            "tags": []
          },
          "execution_count": 6
        }
      ]
    },
    {
      "cell_type": "code",
      "metadata": {
        "id": "p9v_JoQj-DFz",
        "colab_type": "code",
        "colab": {
          "base_uri": "https://localhost:8080/",
          "height": 195
        },
        "outputId": "d9180985-fb14-4c96-d1a2-47e7b05e2036"
      },
      "source": [
        "#verificando as 5 primeiras linhas do DataFrame df_pop_mg\n",
        "df_pop_mg.head()"
      ],
      "execution_count": 7,
      "outputs": [
        {
          "output_type": "execute_result",
          "data": {
            "text/html": [
              "<div>\n",
              "<style scoped>\n",
              "    .dataframe tbody tr th:only-of-type {\n",
              "        vertical-align: middle;\n",
              "    }\n",
              "\n",
              "    .dataframe tbody tr th {\n",
              "        vertical-align: top;\n",
              "    }\n",
              "\n",
              "    .dataframe thead th {\n",
              "        text-align: right;\n",
              "    }\n",
              "</style>\n",
              "<table border=\"1\" class=\"dataframe\">\n",
              "  <thead>\n",
              "    <tr style=\"text-align: right;\">\n",
              "      <th></th>\n",
              "      <th>UF</th>\n",
              "      <th>Cod_IBGE</th>\n",
              "      <th>Município</th>\n",
              "      <th>Pop_Estimada</th>\n",
              "    </tr>\n",
              "  </thead>\n",
              "  <tbody>\n",
              "    <tr>\n",
              "      <th>0</th>\n",
              "      <td>MG</td>\n",
              "      <td>310010</td>\n",
              "      <td>Abadia dos Dourados</td>\n",
              "      <td>6989</td>\n",
              "    </tr>\n",
              "    <tr>\n",
              "      <th>1</th>\n",
              "      <td>MG</td>\n",
              "      <td>310020</td>\n",
              "      <td>Abaeté</td>\n",
              "      <td>23237</td>\n",
              "    </tr>\n",
              "    <tr>\n",
              "      <th>2</th>\n",
              "      <td>MG</td>\n",
              "      <td>310030</td>\n",
              "      <td>Abre Campo</td>\n",
              "      <td>13454</td>\n",
              "    </tr>\n",
              "    <tr>\n",
              "      <th>3</th>\n",
              "      <td>MG</td>\n",
              "      <td>310040</td>\n",
              "      <td>Acaiaca</td>\n",
              "      <td>3994</td>\n",
              "    </tr>\n",
              "    <tr>\n",
              "      <th>4</th>\n",
              "      <td>MG</td>\n",
              "      <td>310050</td>\n",
              "      <td>Açucena</td>\n",
              "      <td>9470</td>\n",
              "    </tr>\n",
              "  </tbody>\n",
              "</table>\n",
              "</div>"
            ],
            "text/plain": [
              "   UF  Cod_IBGE            Município  Pop_Estimada\n",
              "0  MG    310010  Abadia dos Dourados          6989\n",
              "1  MG    310020               Abaeté         23237\n",
              "2  MG    310030           Abre Campo         13454\n",
              "3  MG    310040              Acaiaca          3994\n",
              "4  MG    310050              Açucena          9470"
            ]
          },
          "metadata": {
            "tags": []
          },
          "execution_count": 7
        }
      ]
    },
    {
      "cell_type": "markdown",
      "metadata": {
        "id": "5HGFvxJEGtT_",
        "colab_type": "text"
      },
      "source": [
        "### Ajustes e junção dos dataframes carregados\n",
        "\n",
        "Podemos constatar pelas primeiras linhas que os DataFrames *df* e *df2* tem estruturas diferentes. Vamos verificar os atributos de cada um deles e ver a possibilidade de unir em um único DataFrame.\n",
        "\n",
        "O DataFrame *df* tem 9 atributos e o *df2* tem 10 atributos, a diferença é a coluna *Alvos* que não tem no *df* porque todos os alvos são pessoas, por se tratar do arquivo de *crimes com vítmas*. \n",
        "\n",
        "O DataFrame *df_pop_mg* tem a população de cada muniípio de Minas Gerais, e podemos identificar os município em todos os dataframes pela coluna *Cod_IBGE*. Faremos isto para criar o dataset limpo e com todas as informações necessárias para análise."
      ]
    },
    {
      "cell_type": "code",
      "metadata": {
        "id": "s41KXTZeHGvT",
        "colab_type": "code",
        "colab": {
          "base_uri": "https://localhost:8080/",
          "height": 202
        },
        "outputId": "486401b6-8a1b-44cc-d039-afdc05408572"
      },
      "source": [
        "# Verificando as colunas dos dois DataFrames\n",
        "print('\\n','Colunas do dataframe df -->',df.columns,'\\n','Colunas do dataframe df2 -->', df2.columns, '\\n')\n",
        "print(\"Registros df:\\t {}\".format(df.shape[0]), \" - Features df:\\t {}\\n\".format(df.shape[1]))\n",
        "print(\"Registros df2:\\t {}\".format(df2.shape[0]), \" - Features df2:\\t {}\".format(df2.shape[1]))"
      ],
      "execution_count": 8,
      "outputs": [
        {
          "output_type": "stream",
          "text": [
            "\n",
            " Colunas do dataframe df --> Index(['Registros', 'Natureza', 'Município', 'Cod IBGE', 'Mês ', 'Ano', 'RISP',\n",
            "       'RISP Nova', 'RMBH'],\n",
            "      dtype='object') \n",
            " Colunas do dataframe df2 --> Index(['Registros', 'Natureza', 'Alvos', 'Município', 'Cod IBGE', 'Mês ',\n",
            "       'Ano', 'RISP', 'RISP Nova', 'RMBH'],\n",
            "      dtype='object') \n",
            "\n",
            "Registros df:\t 580037  - Features df:\t 9\n",
            "\n",
            "Registros df2:\t 665340  - Features df2:\t 10\n"
          ],
          "name": "stdout"
        }
      ]
    },
    {
      "cell_type": "markdown",
      "metadata": {
        "id": "VnQflXcgJJlM",
        "colab_type": "text"
      },
      "source": [
        "Vamos criar uma coluna no DataFrame *df* e depois inserir os dados do DataFrame *df2* no *df*."
      ]
    },
    {
      "cell_type": "code",
      "metadata": {
        "id": "iLTG6c8LdCyl",
        "colab_type": "code",
        "colab": {
          "base_uri": "https://localhost:8080/",
          "height": 118
        },
        "outputId": "b1902611-aacf-498a-b3cd-4914394c5f1a"
      },
      "source": [
        "#Verificando o número de colunas e registros antes da alteração\n",
        "print(\"Registros antes:\\t {}\".format(df.shape[0]))\n",
        "print(\"Features antes:\\t {}\\n\".format(df.shape[1]))\n",
        "\n",
        "#Inserindo coluna Alvo na mesma posição do dataframe df2\n",
        "df.insert(2,'Alvos','Pessoas')\n",
        "\n",
        "#Inserindo o dataframe df2 no df através do comando append\n",
        "df = df.append(df2, ignore_index=True)\n",
        "\n",
        "#Verificando o npumero de colunas e registros de pois da alteração\n",
        "print(\"Registros depois:\\t {}\".format(df.shape[0]))\n",
        "print(\"Features depois:\\t {}\\n\".format(df.shape[1]))\n",
        "\n",
        "\n"
      ],
      "execution_count": 9,
      "outputs": [
        {
          "output_type": "stream",
          "text": [
            "Registros antes:\t 580037\n",
            "Features antes:\t 9\n",
            "\n",
            "Registros depois:\t 1245377\n",
            "Features depois:\t 10\n",
            "\n"
          ],
          "name": "stdout"
        }
      ]
    },
    {
      "cell_type": "markdown",
      "metadata": {
        "id": "YSRRznx70c3Y",
        "colab_type": "text"
      },
      "source": [
        "Acerto do nome da feature *'Mês '* para 'Mes' e *'Cod IBGE'* para *'Cod_IBGE'*, por uma questão de comodidade para trabalhar com estas *features*."
      ]
    },
    {
      "cell_type": "code",
      "metadata": {
        "id": "XnEajgo50xEz",
        "colab_type": "code",
        "colab": {
          "base_uri": "https://localhost:8080/",
          "height": 67
        },
        "outputId": "2dea4f47-0efa-4c05-ddae-1e2fcdce4ee8"
      },
      "source": [
        "# Comando para alteração do nome das colunas \n",
        "df = df.rename(columns={'Mês ':'Mes'})\n",
        "df = df.rename(columns={'Cod IBGE':'Cod_IBGE'})\n",
        "\n",
        "#Comando para verificação se o nome foi alterado\n",
        "df.columns"
      ],
      "execution_count": 10,
      "outputs": [
        {
          "output_type": "execute_result",
          "data": {
            "text/plain": [
              "Index(['Registros', 'Natureza', 'Alvos', 'Município', 'Cod_IBGE', 'Mes', 'Ano',\n",
              "       'RISP', 'RISP Nova', 'RMBH'],\n",
              "      dtype='object')"
            ]
          },
          "metadata": {
            "tags": []
          },
          "execution_count": 10
        }
      ]
    },
    {
      "cell_type": "code",
      "metadata": {
        "id": "Ki71ZNe_gSfD",
        "colab_type": "code",
        "colab": {
          "base_uri": "https://localhost:8080/",
          "height": 67
        },
        "outputId": "06588663-3b89-4b45-b55f-d67e58bc33aa"
      },
      "source": [
        "#Identificando o volume de dados do DataFrame\n",
        "print(\"Registros:\\t {}\".format(df.shape[0]))\n",
        "print(\"Features:\\t {}\\n\".format(df.shape[1]))"
      ],
      "execution_count": 11,
      "outputs": [
        {
          "output_type": "stream",
          "text": [
            "Registros:\t 1245377\n",
            "Features:\t 10\n",
            "\n"
          ],
          "name": "stdout"
        }
      ]
    },
    {
      "cell_type": "markdown",
      "metadata": {
        "id": "9M5Lyf9dg8t3",
        "colab_type": "text"
      },
      "source": [
        "#### Análise das features (colunas)"
      ]
    },
    {
      "cell_type": "code",
      "metadata": {
        "id": "hpqnhdvuusTR",
        "colab_type": "code",
        "colab": {
          "base_uri": "https://localhost:8080/",
          "height": 286
        },
        "outputId": "468afe91-0579-4c2c-bf9c-d5046b99a150"
      },
      "source": [
        "#Extraindo informações do DataFrame\n",
        "df.info(buf = None,memory_usage=False,null_counts=False);"
      ],
      "execution_count": 12,
      "outputs": [
        {
          "output_type": "stream",
          "text": [
            "<class 'pandas.core.frame.DataFrame'>\n",
            "RangeIndex: 1245377 entries, 0 to 1245376\n",
            "Data columns (total 10 columns):\n",
            " #   Column     Dtype \n",
            "---  ------     ----- \n",
            " 0   Registros  int64 \n",
            " 1   Natureza   object\n",
            " 2   Alvos      object\n",
            " 3   Município  object\n",
            " 4   Cod_IBGE   int64 \n",
            " 5   Mes        int64 \n",
            " 6   Ano        int64 \n",
            " 7   RISP       int64 \n",
            " 8   RISP Nova  int64 \n",
            " 9   RMBH       object\n",
            "dtypes: int64(6), object(4)"
          ],
          "name": "stdout"
        }
      ]
    },
    {
      "cell_type": "markdown",
      "metadata": {
        "id": "LYfm7nEhzOcN",
        "colab_type": "text"
      },
      "source": [
        "O volume do *Dataset* carregado tem 1.245.377 registros e 10 colunas"
      ]
    },
    {
      "cell_type": "markdown",
      "metadata": {
        "colab_type": "text",
        "id": "OIfgHCSKBC5B"
      },
      "source": [
        "##### Dicionário de features.\n",
        "\n",
        "*   **Registros** --> Quantidade de ocorrências - *Tipo Integer*\n",
        "*   **Natureza** --> Tipo de crime - *Tipo String*\n",
        "*   **Alvo**--> O que foi objeto do crime - *Tipo String*\n",
        "*   **Município** --> Descrição do município da ocorrência - *Tipo String*\n",
        "*   **Cod_IBGE** --> Identificação do município no IBGE - *Tipo Integer*\n",
        "*   **Mes** --> Mês da ocorrência - *Tipo Integer*\n",
        "*   **Ano** --> Ano da ocrrência - *Tipo Integer*\n",
        "*   **RISP** --> Região integrada de segurança pública - *Tipo Integer*\n",
        "*   **RISP Nova** --> Região integrada de segurança pública (Atualização do código) - *Tipo String*\n",
        "*   **RMBH** --> Região Metropolitana de Belo Horizonte - *Tipo String*"
      ]
    },
    {
      "cell_type": "markdown",
      "metadata": {
        "id": "8xsZpsiKTlJm",
        "colab_type": "text"
      },
      "source": [
        "A variável *Registros* que aponta o número de ocorrência de um determinado crime. Desta forma vou criar um novo DataFrame limpando as linhas cujo *Registros* seja igual a zero."
      ]
    },
    {
      "cell_type": "code",
      "metadata": {
        "id": "l8Erdu2ww6nH",
        "colab_type": "code",
        "colab": {
          "base_uri": "https://localhost:8080/",
          "height": 202
        },
        "outputId": "5df317a9-2220-4a9c-fc18-5ebca67f9558"
      },
      "source": [
        "# Verficação da quantidade de linhas com valor igual a zero na feature Registros\n",
        "df.loc[(df.Registros==0)].count()"
      ],
      "execution_count": 13,
      "outputs": [
        {
          "output_type": "execute_result",
          "data": {
            "text/plain": [
              "Registros    885901\n",
              "Natureza     885901\n",
              "Alvos        885901\n",
              "Município    885901\n",
              "Cod_IBGE     885901\n",
              "Mes          885901\n",
              "Ano          885901\n",
              "RISP         885901\n",
              "RISP Nova    885901\n",
              "RMBH         885901\n",
              "dtype: int64"
            ]
          },
          "metadata": {
            "tags": []
          },
          "execution_count": 13
        }
      ]
    },
    {
      "cell_type": "markdown",
      "metadata": {
        "id": "JpY-_3LXzhc4",
        "colab_type": "text"
      },
      "source": [
        "#### Limpeza e merge (junção) dos DataFrame"
      ]
    },
    {
      "cell_type": "code",
      "metadata": {
        "id": "9CGTs6s-9gzV",
        "colab_type": "code",
        "colab": {}
      },
      "source": [
        "# criando uma cópia do dataframe com o nome df_Registros\n",
        "df_Registros = df.copy()\n",
        "\n",
        "# removendo as linhas (axis=0) onde a coluna Registros = 0\n",
        "df_Registros.drop(df_Registros[df_Registros.Registros == 0].index, axis=0,inplace=True)\n"
      ],
      "execution_count": 14,
      "outputs": []
    },
    {
      "cell_type": "markdown",
      "metadata": {
        "id": "xtySDhDT1wfF",
        "colab_type": "text"
      },
      "source": [
        "## Informações Estatísticas da Violência em Minas Gerais\n",
        "\n",
        "A métrica que utilizaremos de referência será a coluna *Registros* e faremos uma exploração agrupoado pelos tipos de crime, identificado na coluna *Natureza*, por Município e como estes valores variaram no tempo.\n",
        "\n"
      ]
    },
    {
      "cell_type": "code",
      "metadata": {
        "id": "yvy8pT-E5RTv",
        "colab_type": "code",
        "colab": {
          "base_uri": "https://localhost:8080/",
          "height": 168
        },
        "outputId": "a7a028b5-01bf-4c97-c410-7bcc5c90a333"
      },
      "source": [
        "#Identificando o domínio da variável categórica Natureza\n",
        "df_Registros.Natureza.unique()\n"
      ],
      "execution_count": 15,
      "outputs": [
        {
          "output_type": "execute_result",
          "data": {
            "text/plain": [
              "array(['Estupro Consumado', 'Estupro de Vulnerável Consumado',\n",
              "       'Estupro de Vulnerável Tentado', 'Estupro Tentado',\n",
              "       'Extorsão Mediante Sequestro Consumado', 'Homicídio Tentado',\n",
              "       'Roubo Consumado', 'Sequestro e Cárcere Privado Consumado',\n",
              "       'Extorsão Consumado', 'Roubo Tentado',\n",
              "       'Homicídio Consumado (Registros)', 'Extorsão Tentado',\n",
              "       'Sequestro e Cárcere Privado Tentado', 'Furto Consumado',\n",
              "       'Lesão Corporal Consumado', 'Vítima de Homicídio Consumado',\n",
              "       'Roubo', 'Furto'], dtype=object)"
            ]
          },
          "metadata": {
            "tags": []
          },
          "execution_count": 15
        }
      ]
    },
    {
      "cell_type": "markdown",
      "metadata": {
        "id": "B8C2ZZWZesm8",
        "colab_type": "text"
      },
      "source": [
        "Vamos fazer uma análise nos crimes violentos que são tipificados  como *Homicídio Consumado (Registros)* e *Homicídio Tentado*.\n",
        "\n",
        "O Dataset tem registros destes dados a partir do ano de 2018 e o ano de 2020 tem dados até o mês de *Maio* . Certamente quando os dados de Homicídio passaram a ter esta classificação.\n",
        "\n",
        "Vamos constatar uma queda na quantidade de *Homicídios* a cada ano, considerando em 2020 temo os dados dos 5 primeiros meses."
      ]
    },
    {
      "cell_type": "code",
      "metadata": {
        "id": "xRyp_ipnWRdX",
        "colab_type": "code",
        "colab": {
          "base_uri": "https://localhost:8080/",
          "height": 302
        },
        "outputId": "5412830a-de6c-4542-9423-03def5081613"
      },
      "source": [
        "# Verificando a quantidade de homicídios por natureza\n",
        "\n",
        "df_Registros.loc[(df_Registros.Natureza.str \\\n",
        "                  .contains('Homicídio'))] \\\n",
        "                  .groupby(['Ano','Natureza']).Registros.sum()"
      ],
      "execution_count": 18,
      "outputs": [
        {
          "output_type": "execute_result",
          "data": {
            "text/plain": [
              "Ano   Natureza                       \n",
              "2012  Vítima de Homicídio Consumado      4009\n",
              "2013  Vítima de Homicídio Consumado      4333\n",
              "2014  Vítima de Homicídio Consumado      4259\n",
              "2015  Vítima de Homicídio Consumado      4165\n",
              "2016  Vítima de Homicídio Consumado      4181\n",
              "2017  Vítima de Homicídio Consumado      3953\n",
              "2018  Homicídio Consumado (Registros)    2948\n",
              "      Homicídio Tentado                  3523\n",
              "      Vítima de Homicídio Consumado      3077\n",
              "2019  Homicídio Consumado (Registros)    2644\n",
              "      Homicídio Tentado                  2855\n",
              "      Vítima de Homicídio Consumado      2722\n",
              "2020  Homicídio Consumado (Registros)    1098\n",
              "      Homicídio Tentado                  1045\n",
              "      Vítima de Homicídio Consumado      1138\n",
              "Name: Registros, dtype: int64"
            ]
          },
          "metadata": {
            "tags": []
          },
          "execution_count": 18
        }
      ]
    },
    {
      "cell_type": "code",
      "metadata": {
        "id": "J_COlf0ShJJ6",
        "colab_type": "code",
        "colab": {
          "base_uri": "https://localhost:8080/",
          "height": 756
        },
        "outputId": "a24ab1d3-a4fd-4f0a-f825-953b153505f9"
      },
      "source": [
        "# média de crimes violentos (Homicídio Consumado (Registros),Homicídio Tentado) nos anos 2018 a 2020\n",
        "\n",
        "print('Dados estatísticos de Homícidios no ano\\n')\n",
        "print('Total de Homicídios em 2018: \\n',df_Registros.loc[(df_Registros.Ano == 2018) & \\\n",
        "       (df_Registros.Natureza.isin([\"Homicídio Consumado (Registros)\",\"Homicídio Tentado\"]))].Registros.sum(),'\\n');\n",
        "print('em 2018: \\n',df_Registros.loc[(df_Registros.Ano == 2018) &  \\\n",
        "       (df_Registros.Natureza.isin([\"Homicídio Consumado (Registros)\",\"Homicídio Tentado\"]))].Registros.describe(),'\\n');\n",
        "print('Total de Homicídios em 2019: \\n',df_Registros.loc[(df_Registros.Ano == 2019) & \\\n",
        "       (df_Registros.Natureza.isin([\"Homicídio Consumado (Registros)\",\"Homicídio Tentado\"]))].Registros.sum(),'\\n');\n",
        "print('em 2019: \\n',df_Registros.loc[(df_Registros.Ano == 2019) & \\\n",
        "       (df_Registros.Natureza.isin([\"Homicídio Consumado (Registros)\",\"Homicídio Tentado\"]))].Registros.describe(),'\\n');\n",
        "print('Total de Homicídios em 2020: \\n',df_Registros.loc[(df_Registros.Ano == 2020) & \\\n",
        "       (df_Registros.Natureza.isin([\"Homicídio Consumado (Registros)\",\"Homicídio Tentado\"]))].Registros.sum(),'\\n');\n",
        "print('em 2020 (até Maio): \\n',df_Registros.loc[(df_Registros.Ano == 2020) & \\\n",
        "       (df_Registros.Natureza.isin([\"Homicídio Consumado (Registros)\",\"Homicídio Tentado\"]))].Registros.describe(),'\\n');\n",
        "\n"
      ],
      "execution_count": 19,
      "outputs": [
        {
          "output_type": "stream",
          "text": [
            "Dados estatísticos de Homícidios no ano\n",
            "\n",
            "Total de Homicídios em 2018: \n",
            " 6471 \n",
            "\n",
            "em 2018: \n",
            " count    3055.000000\n",
            "mean        2.118167\n",
            "std         3.556097\n",
            "min         1.000000\n",
            "25%         1.000000\n",
            "50%         1.000000\n",
            "75%         2.000000\n",
            "max        56.000000\n",
            "Name: Registros, dtype: float64 \n",
            "\n",
            "Total de Homicídios em 2019: \n",
            " 5499 \n",
            "\n",
            "em 2019: \n",
            " count    2785.000000\n",
            "mean        1.974506\n",
            "std         3.197700\n",
            "min         1.000000\n",
            "25%         1.000000\n",
            "50%         1.000000\n",
            "75%         2.000000\n",
            "max        41.000000\n",
            "Name: Registros, dtype: float64 \n",
            "\n",
            "Total de Homicídios em 2020: \n",
            " 2143 \n",
            "\n",
            "em 2020 (até Maio): \n",
            " count    1091.000000\n",
            "mean        1.964253\n",
            "std         3.202294\n",
            "min         1.000000\n",
            "25%         1.000000\n",
            "50%         1.000000\n",
            "75%         2.000000\n",
            "max        38.000000\n",
            "Name: Registros, dtype: float64 \n",
            "\n"
          ],
          "name": "stdout"
        }
      ]
    },
    {
      "cell_type": "markdown",
      "metadata": {
        "id": "JKTmLS2cmUUE",
        "colab_type": "text"
      },
      "source": [
        " Para conseguirmos comparar os municípios mais violentos, temos que levar em consideração a população do Município, assim vamos calcular a *taxa de Homicídio por 100.000 habitantes* , desta forma vamos filtrar os municípios com mais de 100.000 habitantes e verificar quais tem as maiores e menores taxa de homicídio.\n",
        "\n",
        " Cálculo da taxa de crime por 100.000 habitantes será utilizada para comparar os números entre os municípios:\n",
        "* $\\frac{\\text{Registros}}{\\text{Populacao_Município}}\\text{. 100.000}$\n",
        "\n",
        "\n",
        "\n"
      ]
    },
    {
      "cell_type": "markdown",
      "metadata": {
        "id": "EXHizQSX_ny1",
        "colab_type": "text"
      },
      "source": [
        "Merge do dataframe df_registro e df_pop_mg em um novo dataframe *df_analise* "
      ]
    },
    {
      "cell_type": "code",
      "metadata": {
        "id": "6iVawkYj_nM6",
        "colab_type": "code",
        "colab": {
          "base_uri": "https://localhost:8080/",
          "height": 195
        },
        "outputId": "ecdd3838-58cf-4ef8-9d37-782924820906"
      },
      "source": [
        "# Merge do dataframe com os crimes e o dataframe com a população dos municípios\n",
        "df_mais_pop = pd.merge(df_Registros,df_pop_mg[['Cod_IBGE','Pop_Estimada']], on='Cod_IBGE')\n",
        "df_mais_pop.head()"
      ],
      "execution_count": 20,
      "outputs": [
        {
          "output_type": "execute_result",
          "data": {
            "text/html": [
              "<div>\n",
              "<style scoped>\n",
              "    .dataframe tbody tr th:only-of-type {\n",
              "        vertical-align: middle;\n",
              "    }\n",
              "\n",
              "    .dataframe tbody tr th {\n",
              "        vertical-align: top;\n",
              "    }\n",
              "\n",
              "    .dataframe thead th {\n",
              "        text-align: right;\n",
              "    }\n",
              "</style>\n",
              "<table border=\"1\" class=\"dataframe\">\n",
              "  <thead>\n",
              "    <tr style=\"text-align: right;\">\n",
              "      <th></th>\n",
              "      <th>Registros</th>\n",
              "      <th>Natureza</th>\n",
              "      <th>Alvos</th>\n",
              "      <th>Município</th>\n",
              "      <th>Cod_IBGE</th>\n",
              "      <th>Mes</th>\n",
              "      <th>Ano</th>\n",
              "      <th>RISP</th>\n",
              "      <th>RISP Nova</th>\n",
              "      <th>RMBH</th>\n",
              "      <th>Pop_Estimada</th>\n",
              "    </tr>\n",
              "  </thead>\n",
              "  <tbody>\n",
              "    <tr>\n",
              "      <th>0</th>\n",
              "      <td>1</td>\n",
              "      <td>Estupro Consumado</td>\n",
              "      <td>Pessoas</td>\n",
              "      <td>ALFENAS</td>\n",
              "      <td>310160</td>\n",
              "      <td>1</td>\n",
              "      <td>2018</td>\n",
              "      <td>18</td>\n",
              "      <td>18</td>\n",
              "      <td>NÃO</td>\n",
              "      <td>79996</td>\n",
              "    </tr>\n",
              "    <tr>\n",
              "      <th>1</th>\n",
              "      <td>2</td>\n",
              "      <td>Estupro de Vulnerável Consumado</td>\n",
              "      <td>Pessoas</td>\n",
              "      <td>ALFENAS</td>\n",
              "      <td>310160</td>\n",
              "      <td>1</td>\n",
              "      <td>2018</td>\n",
              "      <td>18</td>\n",
              "      <td>18</td>\n",
              "      <td>NÃO</td>\n",
              "      <td>79996</td>\n",
              "    </tr>\n",
              "    <tr>\n",
              "      <th>2</th>\n",
              "      <td>2</td>\n",
              "      <td>Estupro Tentado</td>\n",
              "      <td>Pessoas</td>\n",
              "      <td>ALFENAS</td>\n",
              "      <td>310160</td>\n",
              "      <td>1</td>\n",
              "      <td>2018</td>\n",
              "      <td>18</td>\n",
              "      <td>18</td>\n",
              "      <td>NÃO</td>\n",
              "      <td>79996</td>\n",
              "    </tr>\n",
              "    <tr>\n",
              "      <th>3</th>\n",
              "      <td>25</td>\n",
              "      <td>Roubo Consumado</td>\n",
              "      <td>Pessoas</td>\n",
              "      <td>ALFENAS</td>\n",
              "      <td>310160</td>\n",
              "      <td>1</td>\n",
              "      <td>2018</td>\n",
              "      <td>18</td>\n",
              "      <td>18</td>\n",
              "      <td>NÃO</td>\n",
              "      <td>79996</td>\n",
              "    </tr>\n",
              "    <tr>\n",
              "      <th>4</th>\n",
              "      <td>1</td>\n",
              "      <td>Roubo Tentado</td>\n",
              "      <td>Pessoas</td>\n",
              "      <td>ALFENAS</td>\n",
              "      <td>310160</td>\n",
              "      <td>1</td>\n",
              "      <td>2018</td>\n",
              "      <td>18</td>\n",
              "      <td>18</td>\n",
              "      <td>NÃO</td>\n",
              "      <td>79996</td>\n",
              "    </tr>\n",
              "  </tbody>\n",
              "</table>\n",
              "</div>"
            ],
            "text/plain": [
              "   Registros                         Natureza  ... RMBH Pop_Estimada\n",
              "0          1                Estupro Consumado  ...  NÃO        79996\n",
              "1          2  Estupro de Vulnerável Consumado  ...  NÃO        79996\n",
              "2          2                  Estupro Tentado  ...  NÃO        79996\n",
              "3         25                  Roubo Consumado  ...  NÃO        79996\n",
              "4          1                    Roubo Tentado  ...  NÃO        79996\n",
              "\n",
              "[5 rows x 11 columns]"
            ]
          },
          "metadata": {
            "tags": []
          },
          "execution_count": 20
        }
      ]
    },
    {
      "cell_type": "code",
      "metadata": {
        "id": "_6GycQ5xsZlp",
        "colab_type": "code",
        "colab": {
          "base_uri": "https://localhost:8080/",
          "height": 195
        },
        "outputId": "a489f9e0-476b-41aa-8c26-678d36e80fb3"
      },
      "source": [
        "# Criando um dataframe somente com os homicídios\n",
        "\n",
        "df_homicidio = df_mais_pop.loc[(df_mais_pop.Natureza.isin([\"Homicídio Consumado (Registros)\",\"Homicídio Tentado\"]))] \\\n",
        ".groupby(['Ano','Mes','Município']).agg({'Registros':np.sum,'Pop_Estimada':np.max})\n",
        "df_homicidio.reset_index(inplace=True)\n",
        "df_homicidio.head()\n"
      ],
      "execution_count": 21,
      "outputs": [
        {
          "output_type": "execute_result",
          "data": {
            "text/html": [
              "<div>\n",
              "<style scoped>\n",
              "    .dataframe tbody tr th:only-of-type {\n",
              "        vertical-align: middle;\n",
              "    }\n",
              "\n",
              "    .dataframe tbody tr th {\n",
              "        vertical-align: top;\n",
              "    }\n",
              "\n",
              "    .dataframe thead th {\n",
              "        text-align: right;\n",
              "    }\n",
              "</style>\n",
              "<table border=\"1\" class=\"dataframe\">\n",
              "  <thead>\n",
              "    <tr style=\"text-align: right;\">\n",
              "      <th></th>\n",
              "      <th>Ano</th>\n",
              "      <th>Mes</th>\n",
              "      <th>Município</th>\n",
              "      <th>Registros</th>\n",
              "      <th>Pop_Estimada</th>\n",
              "    </tr>\n",
              "  </thead>\n",
              "  <tbody>\n",
              "    <tr>\n",
              "      <th>0</th>\n",
              "      <td>2018</td>\n",
              "      <td>1</td>\n",
              "      <td>AGUAS FORMOSAS</td>\n",
              "      <td>2</td>\n",
              "      <td>19207</td>\n",
              "    </tr>\n",
              "    <tr>\n",
              "      <th>1</th>\n",
              "      <td>2018</td>\n",
              "      <td>1</td>\n",
              "      <td>AIMORES</td>\n",
              "      <td>2</td>\n",
              "      <td>25167</td>\n",
              "    </tr>\n",
              "    <tr>\n",
              "      <th>2</th>\n",
              "      <td>2018</td>\n",
              "      <td>1</td>\n",
              "      <td>ALEM PARAIBA</td>\n",
              "      <td>1</td>\n",
              "      <td>35362</td>\n",
              "    </tr>\n",
              "    <tr>\n",
              "      <th>3</th>\n",
              "      <td>2018</td>\n",
              "      <td>1</td>\n",
              "      <td>ALMENARA</td>\n",
              "      <td>2</td>\n",
              "      <td>41896</td>\n",
              "    </tr>\n",
              "    <tr>\n",
              "      <th>4</th>\n",
              "      <td>2018</td>\n",
              "      <td>1</td>\n",
              "      <td>ALPINOPOLIS</td>\n",
              "      <td>1</td>\n",
              "      <td>19853</td>\n",
              "    </tr>\n",
              "  </tbody>\n",
              "</table>\n",
              "</div>"
            ],
            "text/plain": [
              "    Ano  Mes       Município  Registros  Pop_Estimada\n",
              "0  2018    1  AGUAS FORMOSAS          2         19207\n",
              "1  2018    1         AIMORES          2         25167\n",
              "2  2018    1    ALEM PARAIBA          1         35362\n",
              "3  2018    1        ALMENARA          2         41896\n",
              "4  2018    1     ALPINOPOLIS          1         19853"
            ]
          },
          "metadata": {
            "tags": []
          },
          "execution_count": 21
        }
      ]
    },
    {
      "cell_type": "code",
      "metadata": {
        "id": "PGSQbZPf05-4",
        "colab_type": "code",
        "colab": {
          "base_uri": "https://localhost:8080/",
          "height": 225
        },
        "outputId": "8c9673a0-991d-4ba9-f05a-fc81f968b746"
      },
      "source": [
        "# Filtrando algumas linhas para verificação\n",
        "\n",
        "df_mais_pop.loc[(df_mais_pop.Município=='BETIM') & \\\n",
        "                (df_mais_pop.Natureza.isin([\"Homicídio Consumado (Registros)\",\"Homicídio Tentado\"]))] \\\n",
        "                .groupby(['Ano','Mes','Município']).agg({'Registros':np.sum,'Pop_Estimada':np.max})[:5]"
      ],
      "execution_count": 22,
      "outputs": [
        {
          "output_type": "execute_result",
          "data": {
            "text/html": [
              "<div>\n",
              "<style scoped>\n",
              "    .dataframe tbody tr th:only-of-type {\n",
              "        vertical-align: middle;\n",
              "    }\n",
              "\n",
              "    .dataframe tbody tr th {\n",
              "        vertical-align: top;\n",
              "    }\n",
              "\n",
              "    .dataframe thead th {\n",
              "        text-align: right;\n",
              "    }\n",
              "</style>\n",
              "<table border=\"1\" class=\"dataframe\">\n",
              "  <thead>\n",
              "    <tr style=\"text-align: right;\">\n",
              "      <th></th>\n",
              "      <th></th>\n",
              "      <th></th>\n",
              "      <th>Registros</th>\n",
              "      <th>Pop_Estimada</th>\n",
              "    </tr>\n",
              "    <tr>\n",
              "      <th>Ano</th>\n",
              "      <th>Mes</th>\n",
              "      <th>Município</th>\n",
              "      <th></th>\n",
              "      <th></th>\n",
              "    </tr>\n",
              "  </thead>\n",
              "  <tbody>\n",
              "    <tr>\n",
              "      <th rowspan=\"5\" valign=\"top\">2018</th>\n",
              "      <th>1</th>\n",
              "      <th>BETIM</th>\n",
              "      <td>37</td>\n",
              "      <td>439340</td>\n",
              "    </tr>\n",
              "    <tr>\n",
              "      <th>2</th>\n",
              "      <th>BETIM</th>\n",
              "      <td>16</td>\n",
              "      <td>439340</td>\n",
              "    </tr>\n",
              "    <tr>\n",
              "      <th>3</th>\n",
              "      <th>BETIM</th>\n",
              "      <td>23</td>\n",
              "      <td>439340</td>\n",
              "    </tr>\n",
              "    <tr>\n",
              "      <th>4</th>\n",
              "      <th>BETIM</th>\n",
              "      <td>17</td>\n",
              "      <td>439340</td>\n",
              "    </tr>\n",
              "    <tr>\n",
              "      <th>5</th>\n",
              "      <th>BETIM</th>\n",
              "      <td>13</td>\n",
              "      <td>439340</td>\n",
              "    </tr>\n",
              "  </tbody>\n",
              "</table>\n",
              "</div>"
            ],
            "text/plain": [
              "                    Registros  Pop_Estimada\n",
              "Ano  Mes Município                         \n",
              "2018 1   BETIM             37        439340\n",
              "     2   BETIM             16        439340\n",
              "     3   BETIM             23        439340\n",
              "     4   BETIM             17        439340\n",
              "     5   BETIM             13        439340"
            ]
          },
          "metadata": {
            "tags": []
          },
          "execution_count": 22
        }
      ]
    },
    {
      "cell_type": "code",
      "metadata": {
        "id": "vq6e5sl53kD3",
        "colab_type": "code",
        "colab": {}
      },
      "source": [
        "# criar coluna com o cálculo da taxa de homcícidios por 100000 habitantes\n",
        "\n",
        "df_homicidio['tx_por_100k'] = round((df_homicidio.Registros / df_homicidio.Pop_Estimada)*100000,2)\n"
      ],
      "execution_count": 23,
      "outputs": []
    },
    {
      "cell_type": "code",
      "metadata": {
        "id": "kHypnamVtPDu",
        "colab_type": "code",
        "colab": {
          "base_uri": "https://localhost:8080/",
          "height": 343
        },
        "outputId": "0978c608-a2f6-4280-c37b-21b73ad775dd"
      },
      "source": [
        "# Verificando OS Top 10 de 2018 no dataframe após criação da coluna tx_por_100k\n",
        "\n",
        "df_homicidio.loc[(df_homicidio.Ano==2018) & (df_homicidio.Pop_Estimada >= 100000)] \\\n",
        ".groupby(['Município']).tx_por_100k.sum() \\\n",
        ".sort_values(ascending = False).reset_index()[:10]\n"
      ],
      "execution_count": 54,
      "outputs": [
        {
          "output_type": "execute_result",
          "data": {
            "text/html": [
              "<div>\n",
              "<style scoped>\n",
              "    .dataframe tbody tr th:only-of-type {\n",
              "        vertical-align: middle;\n",
              "    }\n",
              "\n",
              "    .dataframe tbody tr th {\n",
              "        vertical-align: top;\n",
              "    }\n",
              "\n",
              "    .dataframe thead th {\n",
              "        text-align: right;\n",
              "    }\n",
              "</style>\n",
              "<table border=\"1\" class=\"dataframe\">\n",
              "  <thead>\n",
              "    <tr style=\"text-align: right;\">\n",
              "      <th></th>\n",
              "      <th>Município</th>\n",
              "      <th>tx_por_100k</th>\n",
              "    </tr>\n",
              "  </thead>\n",
              "  <tbody>\n",
              "    <tr>\n",
              "      <th>0</th>\n",
              "      <td>GOVERNADOR VALADARES</td>\n",
              "      <td>70.74</td>\n",
              "    </tr>\n",
              "    <tr>\n",
              "      <th>1</th>\n",
              "      <td>NOVA SERRANA</td>\n",
              "      <td>63.30</td>\n",
              "    </tr>\n",
              "    <tr>\n",
              "      <th>2</th>\n",
              "      <td>SABARA</td>\n",
              "      <td>56.45</td>\n",
              "    </tr>\n",
              "    <tr>\n",
              "      <th>3</th>\n",
              "      <td>RIBEIRAO DAS NEVES</td>\n",
              "      <td>53.74</td>\n",
              "    </tr>\n",
              "    <tr>\n",
              "      <th>4</th>\n",
              "      <td>CONTAGEM</td>\n",
              "      <td>52.13</td>\n",
              "    </tr>\n",
              "    <tr>\n",
              "      <th>5</th>\n",
              "      <td>BETIM</td>\n",
              "      <td>51.20</td>\n",
              "    </tr>\n",
              "    <tr>\n",
              "      <th>6</th>\n",
              "      <td>SANTA LUZIA</td>\n",
              "      <td>44.26</td>\n",
              "    </tr>\n",
              "    <tr>\n",
              "      <th>7</th>\n",
              "      <td>VESPASIANO</td>\n",
              "      <td>43.11</td>\n",
              "    </tr>\n",
              "    <tr>\n",
              "      <th>8</th>\n",
              "      <td>ARAGUARI</td>\n",
              "      <td>42.63</td>\n",
              "    </tr>\n",
              "    <tr>\n",
              "      <th>9</th>\n",
              "      <td>DIVINOPOLIS</td>\n",
              "      <td>38.22</td>\n",
              "    </tr>\n",
              "  </tbody>\n",
              "</table>\n",
              "</div>"
            ],
            "text/plain": [
              "              Município  tx_por_100k\n",
              "0  GOVERNADOR VALADARES        70.74\n",
              "1          NOVA SERRANA        63.30\n",
              "2                SABARA        56.45\n",
              "3    RIBEIRAO DAS NEVES        53.74\n",
              "4              CONTAGEM        52.13\n",
              "5                 BETIM        51.20\n",
              "6           SANTA LUZIA        44.26\n",
              "7            VESPASIANO        43.11\n",
              "8              ARAGUARI        42.63\n",
              "9           DIVINOPOLIS        38.22"
            ]
          },
          "metadata": {
            "tags": []
          },
          "execution_count": 54
        }
      ]
    },
    {
      "cell_type": "code",
      "metadata": {
        "id": "n4wuWm55r2LT",
        "colab_type": "code",
        "colab": {
          "base_uri": "https://localhost:8080/",
          "height": 890
        },
        "outputId": "43b57592-2219-40ba-c88d-c14e9fb58f90"
      },
      "source": [
        "\n",
        "print('Cidades mais violentas de MG por Ano com mais de 100.000 habitantes\\n')\n",
        "print(df_homicidio.loc[(df_homicidio.Ano==2018) & (df_homicidio.Pop_Estimada >= 100000)] \\\n",
        "      .groupby(['Ano','Município']).agg({'Pop_Estimada':np.max,'Registros':np.sum,'tx_por_100k':np.sum}).sort_values(by=['tx_por_100k','Ano'],ascending=False)[:5],'\\n')\n",
        "print(df_homicidio.loc[(df_homicidio.Ano==2019) & (df_homicidio.Pop_Estimada >= 100000)] \\\n",
        "      .groupby(['Ano','Município']).agg({'Pop_Estimada':np.max,'Registros':np.sum,'tx_por_100k':np.sum}).sort_values(by=['tx_por_100k','Ano'],ascending=False)[:5],'\\n')\n",
        "print(df_homicidio.loc[(df_homicidio.Ano==2020) & (df_homicidio.Pop_Estimada >= 100000)] \\\n",
        "      .groupby(['Ano','Município']).agg({'Pop_Estimada':np.max,'Registros':np.sum,'tx_por_100k':np.sum}).sort_values(by=['tx_por_100k','Ano'],ascending=False)[:5],'\\n')\n",
        "print('Cidades menos violentas de MG por Ano com mais de 100.000 habitantes\\n')\n",
        "print(df_homicidio.loc[(df_homicidio.Ano==2018) & (df_homicidio.Pop_Estimada >= 100000)] \\\n",
        "      .groupby(['Ano','Município']).agg({'Pop_Estimada':np.max,'Registros':np.sum,'tx_por_100k':np.sum}).sort_values(by=['tx_por_100k','Ano'],ascending=True)[:5],'\\n')\n",
        "print(df_homicidio.loc[(df_homicidio.Ano==2019) & (df_homicidio.Pop_Estimada >= 100000)] \\\n",
        "      .groupby(['Ano','Município']).agg({'Pop_Estimada':np.max,'Registros':np.sum,'tx_por_100k':np.sum}).sort_values(by=['tx_por_100k','Ano'],ascending=True)[:5],'\\n')\n",
        "print(df_homicidio.loc[(df_homicidio.Ano==2020) & (df_homicidio.Pop_Estimada >= 100000)] \\\n",
        "      .groupby(['Ano','Município']).agg({'Pop_Estimada':np.max,'Registros':np.sum,'tx_por_100k':np.sum}).sort_values(by=['tx_por_100k','Ano'],ascending=True)[:5],'\\n')\n",
        "\n"
      ],
      "execution_count": 56,
      "outputs": [
        {
          "output_type": "stream",
          "text": [
            "Cidades mais violentas de MG por Ano com mais de 100.000 habitantes\n",
            "\n",
            "                           Pop_Estimada  Registros  tx_por_100k\n",
            "Ano  Município                                                 \n",
            "2018 GOVERNADOR VALADARES        279885        198        70.74\n",
            "     NOVA SERRANA                102693         65        63.30\n",
            "     SABARA                      136344         77        56.45\n",
            "     RIBEIRAO DAS NEVES          334858        180        53.74\n",
            "     CONTAGEM                    663855        346        52.13 \n",
            "\n",
            "                           Pop_Estimada  Registros  tx_por_100k\n",
            "Ano  Município                                                 \n",
            "2019 GOVERNADOR VALADARES        279885        184        65.72\n",
            "     SABARA                      136344         60        44.00\n",
            "     RIBEIRAO DAS NEVES          334858        145        43.30\n",
            "     VESPASIANO                  127601         49        38.39\n",
            "     BETIM                       439340        165        37.56 \n",
            "\n",
            "                           Pop_Estimada  Registros  tx_por_100k\n",
            "Ano  Município                                                 \n",
            "2020 GOVERNADOR VALADARES        279885         86        30.72\n",
            "     CORONEL FABRICIANO          109855         28        25.48\n",
            "     BETIM                       439340         75        17.07\n",
            "     SETE LAGOAS                 239639         38        15.85\n",
            "     ITABIRA                     120060         19        15.82 \n",
            "\n",
            "Cidades menos violentas de MG por Ano com mais de 100.000 habitantes\n",
            "\n",
            "                   Pop_Estimada  Registros  tx_por_100k\n",
            "Ano  Município                                         \n",
            "2018 LAVRAS              103773         13        12.52\n",
            "     VARGINHA            135558         17        12.57\n",
            "     BARBACENA           137313         18        13.11\n",
            "     POUSO ALEGRE        150737         20        13.26\n",
            "     PASSOS              114679         16        13.94 \n",
            "\n",
            "                      Pop_Estimada  Registros  tx_por_100k\n",
            "Ano  Município                                            \n",
            "2019 POCOS DE CALDAS        167397         14         8.35\n",
            "     PASSOS                 114679         11         9.57\n",
            "     MONTES CLAROS          409341         46        11.25\n",
            "     LAVRAS                 103773         12        11.57\n",
            "     POUSO ALEGRE           150737         21        13.92 \n",
            "\n",
            "                           Pop_Estimada  Registros  tx_por_100k\n",
            "Ano  Município                                                 \n",
            "2020 TEOFILO OTONI               140592          1         0.71\n",
            "     ITUIUTABA                   104671          2         1.92\n",
            "     LAVRAS                      103773          3         2.89\n",
            "     CONSELHEIRO LAFAIETE        128589          4         3.12\n",
            "     PASSOS                      114679          4         3.48 \n",
            "\n"
          ],
          "name": "stdout"
        }
      ]
    },
    {
      "cell_type": "markdown",
      "metadata": {
        "id": "av0Ccul1Qf5q",
        "colab_type": "text"
      },
      "source": [
        "A capital de Minas Gerais, **Belo Horioznte** com relação a taxa de homicídios por 100.000 habitantes:\n",
        "\n",
        "População Estimada de BH 2.512.070 habitantes (*IBGE 2019*):\n",
        "\n",
        "*   2018 -  13ª posição\n",
        "*   2019 -  17ª posição\n",
        "*   2020 -  10ª posição (*dados apurados até o mês de maio*) \n",
        "\n",
        "\n"
      ]
    },
    {
      "cell_type": "code",
      "metadata": {
        "id": "VnEIVyru1bwb",
        "colab_type": "code",
        "colab": {
          "base_uri": "https://localhost:8080/",
          "height": 67
        },
        "outputId": "7fdba85b-c44a-4a64-8537-c19d5c9b216e"
      },
      "source": [
        "# Cálculo da taxa média de homicídio do estado de MG\n",
        "\n",
        "# Total de ocorrencias\n",
        "print('Número de homicídios: ',df_homicidio.loc[(df_homicidio.Ano==2019) ].Registros.sum())\n",
        "# Populcao estimada\n",
        "print('População Estimada: ',df_pop_mg.Pop_Estimada.sum())\n",
        "# Cálculo da taxa\n",
        "print('Taxa por 100.000 habitantes: ', round(df_homicidio.loc[(df_homicidio.Ano==2019) ].Registros.sum()/df_pop_mg.Pop_Estimada.sum()*100000,2))"
      ],
      "execution_count": 125,
      "outputs": [
        {
          "output_type": "stream",
          "text": [
            "Número de homicídios:  5499\n",
            "População Estimada:  21168791\n",
            "Taxa por 100.000 habitantes:  25.98\n"
          ],
          "name": "stdout"
        }
      ]
    },
    {
      "cell_type": "markdown",
      "metadata": {
        "id": "kI1paqWxb6Xi",
        "colab_type": "text"
      },
      "source": [
        "Visualizando os municípios por ordem decrescente da taxa de homicício por 1000.000 habitantes."
      ]
    },
    {
      "cell_type": "code",
      "metadata": {
        "id": "z7mwDzX3Q_8l",
        "colab_type": "code",
        "colab": {
          "base_uri": "https://localhost:8080/",
          "height": 1000
        },
        "outputId": "e2f88d64-91a5-4ea6-b6b6-c717a1e6ffa6"
      },
      "source": [
        "# Verificação dos municípios\n",
        "\n",
        "print('População de Belo Horizonte (*Ref. IBGE 2019): ',df_homicidio.Pop_Estimada.max())\n",
        "print('Rank 2018: \\n', df_homicidio.loc[(df_homicidio.Ano == 2018) & (df_homicidio.Pop_Estimada >= 100000)] \\\n",
        ".groupby(['Ano','Município','Pop_Estimada']).agg({'Registros':np.sum,'tx_por_100k':np.sum}) \\\n",
        ".sort_values(by=['tx_por_100k'],ascending = False).reset_index() [:20], '\\n')\n",
        "print('Rank 2019: \\n', df_homicidio.loc[(df_homicidio.Ano == 2019) & (df_homicidio.Pop_Estimada >= 100000)] \\\n",
        ".groupby(['Ano','Município','Pop_Estimada']).agg({'Registros':np.sum,'tx_por_100k':np.sum}) \\\n",
        ".sort_values(by=['tx_por_100k'],ascending = False).reset_index() [:20], '\\n')\n",
        "print('Rank 2020: \\n', df_homicidio.loc[(df_homicidio.Ano == 2020\n",
        ") & (df_homicidio.Pop_Estimada >= 100000)] \\\n",
        ".groupby(['Ano','Município','Pop_Estimada']).agg({'Registros':np.sum,'tx_por_100k':np.sum}) \\\n",
        ".sort_values(by=['tx_por_100k'],ascending = False).reset_index() [:20], '\\n')\n",
        "\n"
      ],
      "execution_count": 135,
      "outputs": [
        {
          "output_type": "stream",
          "text": [
            "População de Belo Horizonte (*Ref. IBGE 2019):  2512070\n",
            "Rank 2018: \n",
            "      Ano             Município  Pop_Estimada  Registros  tx_por_100k\n",
            "0   2018  GOVERNADOR VALADARES        279885        198        70.74\n",
            "1   2018          NOVA SERRANA        102693         65        63.30\n",
            "2   2018                SABARA        136344         77        56.45\n",
            "3   2018    RIBEIRAO DAS NEVES        334858        180        53.74\n",
            "4   2018              CONTAGEM        663855        346        52.13\n",
            "5   2018                 BETIM        439340        225        51.20\n",
            "6   2018           SANTA LUZIA        219134         97        44.26\n",
            "7   2018            VESPASIANO        127601         55        43.11\n",
            "8   2018              ARAGUARI        117267         50        42.63\n",
            "9   2018           DIVINOPOLIS        238230         91        38.22\n",
            "10  2018           SETE LAGOAS        239639         82        34.23\n",
            "11  2018        PATOS DE MINAS        152488         51        33.44\n",
            "12  2018        BELO HORIZONTE       2512070        808        32.19\n",
            "13  2018                   UBA        115552         37        32.05\n",
            "14  2018          JUIZ DE FORA        568873        172        30.23\n",
            "15  2018               ITABIRA        120060         36        29.99\n",
            "16  2018                MURIAE        108763         32        29.44\n",
            "17  2018               IBIRITE        180204         53        29.38\n",
            "18  2018              IPATINGA        263410         77        29.26\n",
            "19  2018    CORONEL FABRICIANO        109855         27        24.57 \n",
            "\n",
            "Rank 2019: \n",
            "      Ano             Município  Pop_Estimada  Registros  tx_por_100k\n",
            "0   2019  GOVERNADOR VALADARES        279885        184        65.72\n",
            "1   2019                SABARA        136344         60        44.00\n",
            "2   2019    RIBEIRAO DAS NEVES        334858        145        43.30\n",
            "3   2019            VESPASIANO        127601         49        38.39\n",
            "4   2019                 BETIM        439340        165        37.56\n",
            "5   2019               ITABIRA        120060         45        37.48\n",
            "6   2019    CORONEL FABRICIANO        109855         41        37.31\n",
            "7   2019              CONTAGEM        663855        235        35.38\n",
            "8   2019                MURIAE        108763         37        34.04\n",
            "9   2019                   UBA        115552         39        33.76\n",
            "10  2019              ARAGUARI        117267         39        33.28\n",
            "11  2019          NOVA SERRANA        102693         34        33.11\n",
            "12  2019               IBIRITE        180204         58        32.16\n",
            "13  2019           SETE LAGOAS        239639         77        32.14\n",
            "14  2019           DIVINOPOLIS        238230         74        31.08\n",
            "15  2019           SANTA LUZIA        219134         66        30.12\n",
            "16  2019        BELO HORIZONTE       2512070        728        29.00\n",
            "17  2019          JUIZ DE FORA        568873        148        26.03\n",
            "18  2019              IPATINGA        263410         68        25.84\n",
            "19  2019         TEOFILO OTONI        140592         30        21.32 \n",
            "\n",
            "Rank 2020: \n",
            "      Ano             Município  Pop_Estimada  Registros  tx_por_100k\n",
            "0   2020  GOVERNADOR VALADARES        279885         86        30.72\n",
            "1   2020    CORONEL FABRICIANO        109855         28        25.48\n",
            "2   2020                 BETIM        439340         75        17.07\n",
            "3   2020           SETE LAGOAS        239639         38        15.85\n",
            "4   2020               ITABIRA        120060         19        15.82\n",
            "5   2020    RIBEIRAO DAS NEVES        334858         52        15.53\n",
            "6   2020            VESPASIANO        127601         19        14.89\n",
            "7   2020                   UBA        115552         16        13.84\n",
            "8   2020              CONTAGEM        663855         86        12.96\n",
            "9   2020        BELO HORIZONTE       2512070        301        11.99\n",
            "10  2020              IPATINGA        263410         31        11.78\n",
            "11  2020          NOVA SERRANA        102693         11        10.72\n",
            "12  2020                MURIAE        108763         11        10.12\n",
            "13  2020          JUIZ DE FORA        568873         56         9.85\n",
            "14  2020                SABARA        136344         13         9.53\n",
            "15  2020               IBIRITE        180204         17         9.42\n",
            "16  2020           SANTA LUZIA        219134         19         8.67\n",
            "17  2020              ARAGUARI        117267         10         8.54\n",
            "18  2020           DIVINOPOLIS        238230         18         7.56\n",
            "19  2020               UBERABA        333783         20         6.00 \n",
            "\n"
          ],
          "name": "stdout"
        }
      ]
    },
    {
      "cell_type": "markdown",
      "metadata": {
        "id": "7WK0NBQZASKC",
        "colab_type": "text"
      },
      "source": [
        "## Visualização de Dados\n",
        "\n",
        "Podemos observar claramente, através do gráfico de linhas, a tendência de queda nos homicídios nos municípios do estado de MG, considerando os municípios com mais de 100.000 habitantes.\n"
      ]
    },
    {
      "cell_type": "code",
      "metadata": {
        "id": "rMlMia_OCCI4",
        "colab_type": "code",
        "colab": {
          "base_uri": "https://localhost:8080/",
          "height": 470
        },
        "outputId": "3a1c6d5c-7be9-42da-cc78-c8554affa506"
      },
      "source": [
        "# Grafico de linhas taxa de homcício x ano x município\n",
        "\n",
        "ax = pd.pivot_table(df_homicidio.loc[(df_homicidio.Pop_Estimada >= 100000)] \\\n",
        "               .groupby(['Ano','Município']).agg({'tx_por_100k':np.sum}) \\\n",
        "               .sort_values(by=['tx_por_100k','Ano'],ascending=False),index=[\"Ano\"],columns=[\"Município\"]) \\\n",
        "               .plot(figsize=(16,8), colormap='viridis')\n",
        "ax.set_title('Taxa de Homicídio x Ano x Município', fontsize = 20)    \n",
        "\n",
        "# acerto da escala do eixo x\n",
        "\n",
        "plt.xticks([2018,2019,2020])\n",
        "\n",
        "handles, labels = ax.get_legend_handles_labels()\n",
        "\n",
        "#uso de regular expression para acerto da legenda\n",
        "\n",
        "edited_labels = [re.search(',\\s(.+?)\\)', label).group(1) for label in labels]\n",
        "ax.legend(edited_labels,bbox_to_anchor=(1.05,1), loc=0, borderaxespad=0.) ;"
      ],
      "execution_count": 101,
      "outputs": [
        {
          "output_type": "display_data",
          "data": {
            "image/png": "[encoded data removed]",
            "text/plain": [
              "<Figure size 1152x576 with 1 Axes>"
            ]
          },
          "metadata": {
            "tags": [],
            "needs_background": "light"
          }
        }
      ]
    },
    {
      "cell_type": "code",
      "metadata": {
        "id": "Z1ts_LR_OFK8",
        "colab_type": "code",
        "colab": {}
      },
      "source": [
        "# Preparando dados para geração do gráfico barra horizontal\n",
        "\n",
        "x_2018 = df_homicidio.loc[ (df_homicidio.Ano==2018) & (df_homicidio.Pop_Estimada >= 100000)]. \\\n",
        "               groupby(['Município']).agg({'tx_por_100k':np.sum}). \\\n",
        "               sort_values(by=['tx_por_100k'],ascending=False)[:5]\n",
        "x_2018.reset_index(inplace=True)\n",
        "x_2018.head()   \n",
        "\n",
        "x_2019 = df_homicidio.loc[ (df_homicidio.Ano==2019) & (df_homicidio.Pop_Estimada >= 100000)]. \\\n",
        "               groupby(['Município']).agg({'tx_por_100k':np.sum}). \\\n",
        "               sort_values(by=['tx_por_100k'],ascending=False)[:5]\n",
        "x_2019.reset_index(inplace=True)\n",
        "x_2019.head() \n",
        "\n",
        "x_2020 = df_homicidio.loc[ (df_homicidio.Ano==2020) & (df_homicidio.Pop_Estimada >= 100000)]. \\\n",
        "               groupby(['Município']).agg({'tx_por_100k':np.sum}). \\\n",
        "               sort_values(by=['tx_por_100k'],ascending=False)[:5]\n",
        "x_2020.reset_index(inplace=True)\n"
      ],
      "execution_count": 102,
      "outputs": []
    },
    {
      "cell_type": "code",
      "metadata": {
        "id": "H153vxmHl2nE",
        "colab_type": "code",
        "colab": {
          "base_uri": "https://localhost:8080/",
          "height": 716
        },
        "outputId": "a59967e7-bedc-4d28-e708-0e9e5028f94f"
      },
      "source": [
        "# Gráfico de barras horizonta das 5 cidades mais violentas por ano\n",
        "\n",
        "fig, axs = plt.subplots(ncols=1, nrows=3,figsize=(4,12))\n",
        "ax1, ax2, ax3 = axs.ravel()\n",
        "\n",
        "ax1.barh(x_2018.Município,x_2018.tx_por_100k,color='Red')\n",
        "ax1.set_title(\"5 mais violentos de 2018\")\n",
        "ax2.barh(x_2019.Município,x_2019.tx_por_100k,color='Orange')\n",
        "ax2.set_title(\"5 mais violentos de 2019\")\n",
        "ax3.barh(x_2020.Município,x_2020.tx_por_100k)\n",
        "ax3.set_title(\"5 mais violentos de 2020\");\n",
        "\n"
      ],
      "execution_count": 122,
      "outputs": [
        {
          "output_type": "display_data",
          "data": {
            "image/png": "[encoded data removed]",
            "text/plain": [
              "<Figure size 288x864 with 3 Axes>"
            ]
          },
          "metadata": {
            "tags": [],
            "needs_background": "light"
          }
        }
      ]
    },
    {
      "cell_type": "markdown",
      "metadata": {
        "id": "LCsiXvM3BcsO",
        "colab_type": "text"
      },
      "source": [
        "## Conclusão\n",
        "\n",
        "Podemos perceber, com esta análise preliminar dos dados, uma diminuição de crimes violentos, mas especificamente *Homicídios consumados e Tentativa de Homicídios* no estado de MG, o que mostra que as ações da polícia vem surtindo efeito. \n",
        "\n",
        "A taxa média de homicídios no estado de MG em 2019 foi de **25,98** *homicídios por 100.000 habitantes*. A capital Mineira ficou em 2019 na 17ª posição com uma taxa de **29,00** *homicídios por 100.000 habitantes*.\n",
        "\n",
        "O município de Governador Valadares, vem se mantendo na liderança do ranking de 2018 à 2020, em 2019 a taxa de homicídio foi de **65,72** por 100.000 habitantes. Mas também destacamos que os municípios da *Região Metropolitana de Belo Horizonte (Betim, Sabará, Contagem, Ribeirão das Neves e Vespasiano)* estão sempre figurando entre os mais violentos. "
      ]
    },
    {
      "cell_type": "code",
      "metadata": {
        "id": "UDQA502_hAwI",
        "colab_type": "code",
        "colab": {}
      },
      "source": [
        ""
      ],
      "execution_count": null,
      "outputs": []
    }
  ]
}